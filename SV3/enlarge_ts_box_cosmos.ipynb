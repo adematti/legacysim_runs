{
 "cells": [
  {
   "cell_type": "code",
   "execution_count": 1,
   "id": "d573b21a-97ff-40b1-9ef4-fe8e077c36ff",
   "metadata": {},
   "outputs": [
    {
     "name": "stderr",
     "output_type": "stream",
     "text": [
      "WARNING: leap-second auto-update failed due to the following exception: RuntimeError('Cache is locked after 5.06 s. This may indicate an astropy bug or that kill -9 was used. If you want to unlock the cache remove the directory /global/homes/a/adematti/.astropy/cache/download/py3/lock. Lock claims to be held by process 5959.') [astropy.time.core]\n"
     ]
    },
    {
     "name": "stdout",
     "output_type": "stream",
     "text": [
      "Found 52628/53797 matches.\n"
     ]
    },
    {
     "name": "stderr",
     "output_type": "stream",
     "text": [
      "<ipython-input-1-79a42b9e0e3a>:32: RuntimeWarning: divide by zero encountered in log10\n",
      "  return -2.5*(np.log10(x)-9.)\n",
      "<ipython-input-1-79a42b9e0e3a>:32: RuntimeWarning: invalid value encountered in log10\n",
      "  return -2.5*(np.log10(x)-9.)\n"
     ]
    },
    {
     "name": "stdout",
     "output_type": "stream",
     "text": [
      "Found 52185/53522 matches.\n",
      "Found 52362/53611 matches.\n",
      "Found 52168/53450 matches.\n",
      "Found 51613/52853 matches.\n",
      "Found 50961/52186 matches.\n",
      "Found 51418/52612 matches.\n",
      "Found 50976/52027 matches.\n",
      "Found 48760/49947 matches.\n",
      "Found 50303/51429 matches.\n"
     ]
    }
   ],
   "source": [
    "import os\n",
    "import logging\n",
    "import numpy as np\n",
    "from matplotlib import pyplot as plt\n",
    "from astropy.table import Table, join, unique, vstack\n",
    "\n",
    "output_dir = os.path.join(os.environ['CSCRATCH'],'legacysim','dr9','cosmos','merged')\n",
    "deep_fn = os.path.join(output_dir,'deep.fits')\n",
    "subs = range(80,90)\n",
    "sub_fns = [os.path.join(output_dir,'sub_{:d}.fits'.format(isub)) for isub in subs]\n",
    "dr9_fn = os.path.join(output_dir,'dr9.fits')\n",
    "\n",
    "matched = None\n",
    "deep = Table.read(deep_fn)\n",
    "for sub, sub_fn in zip(subs, sub_fns):\n",
    "    sub = Table.read(sub_fn)\n",
    "    from photometry import utils\n",
    "    index_deep = utils.match_ra_dec([sub['ra'],sub['dec']], [deep['ra'],deep['dec']], distance_upper_bound=1./3600)\n",
    "    #plt.scatter(sub['ra'],sub['dec'])\n",
    "    #plt.show()\n",
    "    #plt.scatter(deep['ra'],deep['dec'])\n",
    "    #plt.show()\n",
    "    mask = index_deep < len(deep)\n",
    "    tmp_sub, tmp_deep = sub[mask], deep[index_deep[mask]]\n",
    "    for field in tmp_deep.colnames:\n",
    "        tmp_sub['input_{}'.format(field)] = tmp_deep[field]\n",
    "    print('Found {:d}/{:d} matches.'.format(len(tmp_sub),len(sub)))\n",
    "    if matched is None: matched = tmp_sub\n",
    "    else: matched = vstack(matched, tmp_sub)\n",
    "\n",
    "    def flux_to_mag(x):\n",
    "        return -2.5*(np.log10(x)-9.)\n",
    "    \n",
    "    for b in ['g','r','z']:\n",
    "        matched['input_{}'.format(b)] = flux_to_mag(matched['input_flux_{}'.format(b)]/matched['mw_transmission_{}'.format(b)])\n",
    "        matched['input_{}fiber'.format(b)] = flux_to_mag(matched['input_fiberflux_{}'.format(b)]/matched['mw_transmission_{}'.format(b)])"
   ]
  },
  {
   "cell_type": "code",
   "execution_count": 2,
   "id": "76730f6f-d912-4dcb-9b78-5453b6ee8c12",
   "metadata": {},
   "outputs": [],
   "source": [
    "def isELG_colors(gflux=None, rflux=None, zflux=None, w1flux=None,\n",
    "                 w2flux=None, gfiberflux=None, south=True, primary=None,\n",
    "                 gmarg=0., grmarg=0., rzmarg=0.):\n",
    "    \"\"\"\n",
    "    Apply ELG selection with box enlarged by ``gmarg``, ``grmarg``, ``rzmarg``.\n",
    "\n",
    "    SV3 selection from https://github.com/desihub/desitarget/blob/7786db0931d23ed20de7ef37a6f07a52072e11ab/py/desitarget/sv3/sv3_cuts.py#L526\n",
    "    \"\"\"\n",
    "    if primary is None:\n",
    "        primary = np.ones_like(rflux, dtype='?')\n",
    "    elg = primary.copy()\n",
    "\n",
    "    # ADM work in magnitudes instead of fluxes. NOTE THIS IS ONLY OK AS\n",
    "    # ADM the snr masking in ALL OF g, r AND z ENSURES positive fluxes.\n",
    "    g = 22.5 - 2.5*np.log10(gflux.clip(1e-16))\n",
    "    r = 22.5 - 2.5*np.log10(rflux.clip(1e-16))\n",
    "    z = 22.5 - 2.5*np.log10(zflux.clip(1e-16))\n",
    "    gfib = 22.5 - 2.5*np.log10(gfiberflux.clip(1e-16))\n",
    "\n",
    "    # ADM cuts shared by the northern and southern selections.\n",
    "    elg &= g > 20 - gmarg                # bright cut.\n",
    "    elg &= r - z > 0.15 - rzmarg         # blue cut.\n",
    "#    elg &= r - z < 1.6 + rzmarg         # red cut.\n",
    "\n",
    "    # ADM cuts that are unique to the north or south. Identical for sv3\n",
    "    # ADM but keep the north/south formalism in case we use it later.\n",
    "    if south:\n",
    "        elg &= gfib < 24.1 + gmarg  # faint cut.\n",
    "        elg &= g - r < 0.5*(r - z) + 0.1 + grmarg  # remove stars, low-z galaxies.\n",
    "    else:\n",
    "        elg &= gfib < 24. + gmarg  # faint cut.\n",
    "        elg &= g - r < 0.5*(r - z) + 0.1 + grmarg  # remove stars, low-z galaxies.\n",
    "\n",
    "    # ADM separate a low-priority and a regular sample.\n",
    "    #elgvlo = elg.copy()\n",
    "\n",
    "    # ADM low-priority OII flux cut.\n",
    "    #elgvlo &= g - r < -1.2*(r - z) + 1.6 + grmarg\n",
    "    #elgvlo &= g - r >= -1.2*(r - z) + 1.3 - grmarg\n",
    "    elg &= g - r < -1.2*(r - z) + 1.6 + grmarg\n",
    "\n",
    "    # ADM high-priority OII flux cut.\n",
    "    #elg &= g - r < -1.2*(r - z) + 1.3 + grmarg\n",
    "\n",
    "    return elg\n",
    "    "
   ]
  },
  {
   "cell_type": "code",
   "execution_count": 3,
   "id": "ad57e1c8-18e5-4880-b288-9650667ff972",
   "metadata": {},
   "outputs": [
    {
     "name": "stderr",
     "output_type": "stream",
     "text": [
      "<ipython-input-3-06fc71c12a8d>:2: RuntimeWarning: invalid value encountered in subtract\n",
      "  ax.scatter(matched['input_r'] - matched['input_z'], matched['input_g'] - matched['input_r'], color='r')\n"
     ]
    },
    {
     "data": {
      "image/png": "[encoded data removed]",
      "text/plain": [
       "<Figure size 432x288 with 1 Axes>"
      ]
     },
     "metadata": {
      "needs_background": "light"
     },
     "output_type": "display_data"
    }
   ],
   "source": [
    "ax = plt.gca()\n",
    "ax.scatter(matched['input_r'] - matched['input_z'], matched['input_g'] - matched['input_r'], color='r')\n",
    "ax.set_xlim(-1.,2.)\n",
    "ax.set_ylim(-0.5,2.)\n",
    "ax.set_xlabel('$r-z$')\n",
    "ax.set_ylabel('$g-r$')\n",
    "plt.show()"
   ]
  },
  {
   "cell_type": "code",
   "execution_count": 4,
   "id": "32aa5b31-1481-4514-86aa-3cb2c17c160e",
   "metadata": {},
   "outputs": [],
   "source": [
    "def mag_to_flux(x):\n",
    "    return 10.**(x/(-2.5)+9.)\n",
    "    \n",
    "def mask_colors(matched, input=True, gmarg=0., grmarg=0., rzmarg=0., run='south'):\n",
    "    if input:\n",
    "        gflux = mag_to_flux(matched['input_g'])\n",
    "        rflux = mag_to_flux(matched['input_r'])\n",
    "        zflux = mag_to_flux(matched['input_z'])\n",
    "        gfiberflux = mag_to_flux(matched['input_gfiber'])\n",
    "    else:\n",
    "        gflux = matched['flux_g']/matched['mw_transmission_g']\n",
    "        rflux = matched['flux_r']/matched['mw_transmission_r']\n",
    "        zflux = matched['flux_z']/matched['mw_transmission_z']\n",
    "        gfiberflux = matched['fiberflux_g']/matched['mw_transmission_g']\n",
    "    return isELG_colors(gflux=gflux, rflux=rflux, zflux=zflux, gfiberflux=gfiberflux, south=run=='south', gmarg=gmarg, grmarg=grmarg, rzmarg=rzmarg)\n",
    "    \n",
    "def enlarge_ts_box(matched, scatter_threshold=0.01, step=0.01, run='north'):\n",
    "    \n",
    "    output_in_nominal_box = mask_colors(matched, input=False, gmarg=0., grmarg=0., rzmarg=0., run=run)\n",
    "    output_finite = mask_colors(matched, input=False, gmarg=np.inf, grmarg=np.inf, rzmarg=np.inf, run=run)\n",
    "    input_in_nominal_box = mask_colors(matched, input=True, gmarg=0., grmarg=0., rzmarg=0., run=run)\n",
    "    input_not_in_nominal_box = output_in_nominal_box & ~input_in_nominal_box\n",
    "    output_not_in_nominal_box = input_in_nominal_box & output_finite & ~output_in_nominal_box\n",
    "    noutput_in_nominal_box = output_in_nominal_box.sum()\n",
    "    scatter_fraction = input_not_in_nominal_box.sum()*1./noutput_in_nominal_box\n",
    "    contamination_fraction = output_not_in_nominal_box.sum()*1./noutput_in_nominal_box\n",
    "    \n",
    "    list_scatter_fraction = [scatter_fraction]\n",
    "    list_contamination_fraction = [contamination_fraction]\n",
    "    cuts = ['gmarg','grmarg','rzmarg']\n",
    "    margins = {cut:0. for cut in cuts}\n",
    "    list_margins = [margins.copy()]\n",
    "    \n",
    "    while scatter_fraction > scatter_threshold:\n",
    "        cscatter_fraction = []\n",
    "        input_in_box = mask_colors(matched, input=True, run=run, **margins)\n",
    "        for cut in cuts:\n",
    "            cmargins = margins.copy()\n",
    "            cmargins[cut] = np.inf\n",
    "            input_not_in_nominal_box = output_in_nominal_box & mask_colors(matched, input=True, run=run, **cmargins) & ~input_in_box\n",
    "            cscatter_fraction.append(input_not_in_nominal_box.sum()*1./noutput_in_nominal_box)\n",
    "        # update color cut with largest scatter fraction\n",
    "        cut = cuts[np.argmax(cscatter_fraction)]\n",
    "        margins[cut] = margins[cut] + step\n",
    "        input_in_box = mask_colors(matched, input=True, run=run, **margins)\n",
    "        input_not_in_box = output_in_nominal_box & ~input_in_box\n",
    "        output_not_in_box = input_in_box & output_finite & ~output_in_nominal_box\n",
    "        scatter_fraction = input_not_in_box.sum()*1./noutput_in_nominal_box\n",
    "        contamination_fraction = output_not_in_box.sum()*1./noutput_in_nominal_box\n",
    "        list_scatter_fraction.append(scatter_fraction)\n",
    "        list_contamination_fraction.append(contamination_fraction)\n",
    "        list_margins.append(margins.copy())\n",
    "    \n",
    "    return list_scatter_fraction, list_contamination_fraction, list_margins"
   ]
  },
  {
   "cell_type": "code",
   "execution_count": 5,
   "id": "2b805a8c-5864-4eba-ba64-238337241645",
   "metadata": {},
   "outputs": [
    {
     "data": {
      "text/plain": [
       "<matplotlib.legend.Legend at 0x2aab14ff6e80>"
      ]
     },
     "execution_count": 5,
     "metadata": {},
     "output_type": "execute_result"
    },
    {
     "data": {
      "image/png": "[encoded data removed]",
      "text/plain": [
       "<Figure size 432x288 with 1 Axes>"
      ]
     },
     "metadata": {
      "needs_background": "light"
     },
     "output_type": "display_data"
    }
   ],
   "source": [
    "ax = plt.gca()\n",
    "list_margins = {}\n",
    "for run in ['north','south']:\n",
    "    list_scatter_fraction, list_contamination_fraction, list_margins[run] = enlarge_ts_box(matched, scatter_threshold=0.01, step=0.01, run=run)\n",
    "    ax.plot(list_contamination_fraction, list_scatter_fraction, label=run)\n",
    "ax.set_ylabel('not in input ELG box / in output ELG box')\n",
    "ax.set_xlabel('not in output ELG box / in output ELG box')\n",
    "ax.legend()"
   ]
  },
  {
   "cell_type": "code",
   "execution_count": 6,
   "id": "4de7fd9f-e3ef-4758-bdce-bf089aef2902",
   "metadata": {},
   "outputs": [
    {
     "name": "stdout",
     "output_type": "stream",
     "text": [
      "{'gmarg': 0.8700000000000006, 'grmarg': 0.7100000000000004, 'rzmarg': 0.47000000000000025}\n",
      "{'gmarg': 1.0200000000000007, 'grmarg': 0.7200000000000004, 'rzmarg': 0.4300000000000002}\n"
     ]
    }
   ],
   "source": [
    "run = 'north'\n",
    "print(list_margins[run][-1])\n",
    "run = 'south'\n",
    "print(list_margins[run][-1])"
   ]
  },
  {
   "cell_type": "code",
   "execution_count": 7,
   "id": "26f1ae19-6d20-44fa-b832-219facae37be",
   "metadata": {},
   "outputs": [
    {
     "name": "stderr",
     "output_type": "stream",
     "text": [
      "<ipython-input-7-a0aaf6ce8772>:3: RuntimeWarning: divide by zero encountered in log10\n",
      "  mag = 22.5 - 2.5*np.log10(matched['flux_{}'.format(b)]/matched['mw_transmission_{}'.format(b)])\n",
      "<ipython-input-7-a0aaf6ce8772>:3: RuntimeWarning: invalid value encountered in log10\n",
      "  mag = 22.5 - 2.5*np.log10(matched['flux_{}'.format(b)]/matched['mw_transmission_{}'.format(b)])\n",
      "<ipython-input-7-a0aaf6ce8772>:4: RuntimeWarning: invalid value encountered in subtract\n",
      "  diff = mag - matched['input_{}'.format(b)]\n"
     ]
    },
    {
     "data": {
      "image/png": "[encoded data removed]",
      "text/plain": [
       "<Figure size 432x288 with 1 Axes>"
      ]
     },
     "metadata": {
      "needs_background": "light"
     },
     "output_type": "display_data"
    },
    {
     "data": {
      "image/png": "[encoded data removed]",
      "text/plain": [
       "<Figure size 432x288 with 1 Axes>"
      ]
     },
     "metadata": {
      "needs_background": "light"
     },
     "output_type": "display_data"
    },
    {
     "data": {
      "image/png": "[encoded data removed]",
      "text/plain": [
       "<Figure size 432x288 with 1 Axes>"
      ]
     },
     "metadata": {
      "needs_background": "light"
     },
     "output_type": "display_data"
    }
   ],
   "source": [
    "for b in 'grz':\n",
    "    ax = plt.gca()\n",
    "    mag = 22.5 - 2.5*np.log10(matched['flux_{}'.format(b)]/matched['mw_transmission_{}'.format(b)])\n",
    "    diff = mag - matched['input_{}'.format(b)]\n",
    "    diff = diff[np.isfinite(diff)]\n",
    "    low,high = np.quantile(diff,q=(0.005,0.995))\n",
    "    ax.hist(diff[(diff > low) & (diff < high)])\n",
    "    plt.show()"
   ]
  },
  {
   "cell_type": "code",
   "execution_count": 8,
   "id": "3f06f39c-b997-4e88-a2dc-883aa559065a",
   "metadata": {},
   "outputs": [
    {
     "name": "stdout",
     "output_type": "stream",
     "text": [
      "Fraction of selected input sample with 0.5 vs new 0.37060120088165993 0.5909781865166831\n",
      "Fraction of selected input sample with 0.5 vs new 0.4027133845101467 0.6206962073420993\n"
     ]
    }
   ],
   "source": [
    "#run = 'north'\n",
    "#for margin in list_margins[run]:\n",
    "#    print(margin)\n",
    "for run in ['north','south']:\n",
    "    mask0 = mask_colors(matched, input=True, run=run, gmarg=0.5, grmarg=0.5, rzmarg=0.5)\n",
    "    mask = mask_colors(matched, input=True, run=run, **list_margins[run][-1])\n",
    "    print('Fraction of selected input sample with 0.5 vs new', mask0.sum()*1./mask0.size, mask.sum()*1./mask.size)"
   ]
  },
  {
   "cell_type": "code",
   "execution_count": 11,
   "id": "54640370-8dbf-4881-b9ba-403fea7ff604",
   "metadata": {},
   "outputs": [
    {
     "name": "stdout",
     "output_type": "stream",
     "text": [
      "0.37060120088165993 0.6590218134833169 52628\n",
      "Fraction of selected input sample with 0.5 vs new 0.014299043198030176 0.6590218134833169\n",
      "not in output ELG box / in output ELG box 0.007984969469234382\n",
      "0.4027133845101467 0.6619670137569355 52628\n",
      "Fraction of selected input sample with 0.5 vs new 0.014299043198030176 0.6619670137569355\n",
      "not in output ELG box / in output ELG box 0.008121077888519748\n"
     ]
    }
   ],
   "source": [
    "for run in ['north','south']:\n",
    "    mask_prev = mask_colors(matched, input=True, run=run, **{'gmarg': 0.5, 'grmarg': 0.5, 'rzmarg': 0.5})\n",
    "    mask = mask_colors(matched, input=True, run=run, **{'gmarg': 1.2, 'grmarg': 0.8, 'rzmarg': 0.5})\n",
    "    mask_output = mask_colors(matched, input=False, run=run)\n",
    "    print(mask_prev.sum()*1./mask_prev.size, mask.sum()*1./mask.size, mask.size)\n",
    "    print('Fraction of selected input sample with 0.5 vs new', mask0.sum()*1./mask0.size, mask.sum()*1./mask.size)\n",
    "    print('not in output ELG box / in output ELG box', (mask_output & ~mask).sum()*1./mask_output.sum())"
   ]
  },
  {
   "cell_type": "code",
   "execution_count": 13,
   "id": "31c8069e-924d-45b6-b68d-d174bb498d30",
   "metadata": {},
   "outputs": [
    {
     "name": "stdout",
     "output_type": "stream",
     "text": [
      "0.04072905843025587\n"
     ]
    }
   ],
   "source": [
    "truth_fn = os.path.join(os.getenv('HOME'),'photometry','truth_cosmos_deep.fits')\n",
    "truth = Table.read(truth_fn)\n",
    "run = 'north'\n",
    "mask0 = mask_colors(truth, input=False, run=run)\n",
    "mask = mask_colors(truth, input=False, **{'gmarg': 1.2, 'grmarg': 0.8, 'rzmarg': 0.5}, run=run)\n",
    "print(mask0.sum()*1./mask.sum())"
   ]
  },
  {
   "cell_type": "code",
   "execution_count": null,
   "id": "398b37e8-831b-472f-b85a-ddf64afdb884",
   "metadata": {},
   "outputs": [],
   "source": []
  }
 ],
 "metadata": {
  "kernelspec": {
   "display_name": "My home",
   "language": "python",
   "name": "home-base"
  },
  "language_info": {
   "codemirror_mode": {
    "name": "ipython",
    "version": 3
   },
   "file_extension": ".py",
   "mimetype": "text/x-python",
   "name": "python",
   "nbconvert_exporter": "python",
   "pygments_lexer": "ipython3",
   "version": "3.8.3"
  }
 },
 "nbformat": 4,
 "nbformat_minor": 5
}
