{
 "cells": [
  {
   "cell_type": "code",
   "execution_count": 6,
   "metadata": {},
   "outputs": [],
   "source": [
    "import os\n",
    "import numpy as np\n",
    "from photometry import *\n",
    "\n",
    "survey_dir = os.getenv('LEGACY_SURVEY_DIR')"
   ]
  },
  {
   "cell_type": "code",
   "execution_count": 24,
   "metadata": {},
   "outputs": [
    {
     "name": "stdout",
     "output_type": "stream",
     "text": [
      "============================= BRICK 0450p057\n",
      "1505 1505\n",
      "[0. 0. 0. ... 0. 0. 0.]\n"
     ]
    }
   ],
   "source": [
    "run = 'south'\n",
    "output_dir0 = os.path.join(os.getenv('CSCRATCH'),'legacysim','dr9','ebv1000shaper',run)\n",
    "output_dir1 = os.path.join(os.getenv('CSCRATCH'),'legacysim','dr9','test2',run)\n",
    "\n",
    "for brick in ['0450p057']:   \n",
    "    print('============================= BRICK',brick)\n",
    "    fn0 = os.path.join(output_dir0,'file0_rs0_skip0','tractor',brick[:3],'tractor-%s.fits' % brick)\n",
    "    h0 = Catalogue.load_fits_header(fn0)\n",
    "    t0 = Catalogue.load_fits(fn0)\n",
    "    #print(h0['DEPVER16'])\n",
    "    #print(h0)\n",
    "    fn1 = os.path.join(output_dir1,'file0_rs0_skip0','tractor',brick[:3],'tractor-%s.fits' % brick)\n",
    "    t1 = Catalogue.load_fits(fn1)\n",
    "    print(t0.size,t1.size)\n",
    "    print(t1['ra']-t0['ra'])\n"
   ]
  },
  {
   "cell_type": "code",
   "execution_count": null,
   "metadata": {},
   "outputs": [],
   "source": [
    "run = 'south'\n",
    "output_dir = os.path.join(os.getenv('CSCRATCH'),'legacysim','dr9','ebv1000shaper',run)\n",
    "injected_fn0 = os.path.join(output_dir,'file0_rs0_skip0','injected.fits')\n",
    "injected0 = Catalogue.load(injected_fn0)\n",
    "obiwan = Catalogue.load(os.path.join(os.getenv('CSCRATCH'),'Obiwan','dr9','ebv1000',run,'randoms','randoms.fits'))\n",
    "print(obiwan.size,injected0.size,np.unique(injected0['id']).size)\n",
    "for field in injected0:\n",
    "    try:\n",
    "        print(field,injected0[field].min(),injected0[field].max())\n",
    "    except TypeError:\n",
    "        pass"
   ]
  },
  {
   "cell_type": "code",
   "execution_count": null,
   "metadata": {},
   "outputs": [],
   "source": [
    "run = 'south'\n",
    "#for brick in get_bricknames(run=run):\n",
    "for brick in ['2028p257','2558p255','0448m105','0048m260','1746m025','0469m035']:   \n",
    "    print('============================= BRICK',brick)\n",
    "    lp_fn = os.path.join('/global/cfs/cdirs/cosmo/data/legacysurvey/dr9/',run,'tractor',brick[:3],'tractor-%s.fits' % brick)\n",
    "    ls_fn = os.path.join(output_dir,'file0_rs0_skip0','tractor',brick[:3],'tractor-%s.fits' % brick)\n",
    "    lp_header = Catalogue.load_fits_header(lp_fn)\n",
    "    ls_header = Catalogue.load_fits_header(ls_fn)\n",
    "    for key in ls_header:\n",
    "        if key in lp_header and ls_header[key] != lp_header[key]:\n",
    "            print(key,ls_header[key],lp_header[key])"
   ]
  },
  {
   "cell_type": "code",
   "execution_count": null,
   "metadata": {},
   "outputs": [],
   "source": [
    "ls_header"
   ]
  },
  {
   "cell_type": "code",
   "execution_count": null,
   "metadata": {},
   "outputs": [],
   "source": []
  }
 ],
 "metadata": {
  "kernelspec": {
   "display_name": "DESI master",
   "language": "python",
   "name": "desi-master"
  },
  "language_info": {
   "codemirror_mode": {
    "name": "ipython",
    "version": 3
   },
   "file_extension": ".py",
   "mimetype": "text/x-python",
   "name": "python",
   "nbconvert_exporter": "python",
   "pygments_lexer": "ipython3",
   "version": "3.8.3"
  }
 },
 "nbformat": 4,
 "nbformat_minor": 4
}
