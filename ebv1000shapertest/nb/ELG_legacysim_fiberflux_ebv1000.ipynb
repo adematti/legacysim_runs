{
 "cells": [
  {
   "cell_type": "code",
   "execution_count": null,
   "metadata": {},
   "outputs": [],
   "source": [
    "import os\n",
    "import logging\n",
    "import numpy as np\n",
    "from matplotlib import pyplot as plt\n",
    "from photometry.NERSC.paths import *\n",
    "from photometry import *\n",
    "\n",
    "logger = logging.getLogger('EBV1000')\n",
    "setup_logging()\n",
    "\n",
    "run = 'north'\n",
    "region = run[0].upper()\n",
    "path_data = path_data(region)\n",
    "path_randoms = path_randoms(region)\n",
    "path_mctool = path_mctool(region)\n",
    "path_legacysim = os.path.join(path_dir,'legacysim','dr9','ebv1000',run,'file0_rs0_skip0','merged','matched_input.fits')"
   ]
  },
  {
   "cell_type": "code",
   "execution_count": null,
   "metadata": {},
   "outputs": [],
   "source": [
    "# legacysim\n",
    "legacysim = Catalogue.load(path_legacysim)\n",
    "legacysim = TargetSelection.load_objects(path_legacysim,radecbox=None,tracer='ELG',region=None)\n",
    "legacysim.set_upper_case()\n",
    "legacysim['RA'] = legacysim['INPUT_RA']\n",
    "legacysim['DEC'] = legacysim['INPUT_DEC']\n",
    "#legacysim['MATCHED'] = legacysim['DISTANCE'] < 0.15/3600.\n",
    "logger.info('Found {:d}/{:d} matches.'.format(legacysim['MATCHED'].sum(),legacysim.size))\n",
    "legacysim.set_estimated_flux(key='INPUT_EFLUX',key_transmission='INPUT_MW_TRANSMISSION',key_flux='INPUT_FLUX')\n",
    "legacysim.set_estimated_flux(key='EFLUX',key_transmission='MW_TRANSMISSION',key_flux='FLUX')\n",
    "\n",
    "def mask_ts(cat,key_flux,key_fiberflux):\n",
    "    from desitarget.sv1.sv1_cuts import isELG_colors\n",
    "    svgtot, svgfib, fdrgtot, fdrgfib = isELG_colors(gflux=cat['{}_G'.format(key_flux)],\n",
    "                                                    rflux=cat['{}_R'.format(key_flux)],\n",
    "                                                    zflux=cat['{}_Z'.format(key_flux)],\n",
    "                                                    gfiberflux=cat['{}_G'.format(key_fiberflux)],\n",
    "                                                    south=region=='S')\n",
    "    return svgtot, svgfib, fdrgtot, fdrgfib\n",
    "\n",
    "legacysim.set_estimated_flux(key='INPUT_EFLUX',key_transmission='INPUT_MW_TRANSMISSION',key_flux='INPUT_FLUX')\n",
    "legacysim.set_estimated_flux(key='EFIBERFLUX',key_transmission='MW_TRANSMISSION',key_flux='FIBERFLUX')\n",
    "\n",
    "mask_tsin = legacysim.mask_maskbit(key_nobs='INPUT_NOBS',key_maskbits='INPUT_MASKBITS') & mask_ts(legacysim,key_flux='INPUT_EFLUX',key_fiberflux='INPUT_EFLUX')[2]\n",
    "mask_tsout = legacysim.mask_maskbit(key_nobs='NOBS',key_maskbits='MASKBITS') & mask_ts(legacysim,key_flux='EFLUX',key_fiberflux='EFIBERFLUX')[2] & legacysim['MATCHED']\n",
    "logger.info('Selecting {:d} (output)/{:d} (input) injected sources.'.format(mask_tsout.sum(),mask_tsin.sum()))\n",
    "legacysim_data = legacysim[mask_tsout]\n",
    "legacysim_randoms = legacysim[mask_tsin]\n",
    "\n",
    "mask_tsin = legacysim.mask_maskbit(key_nobs='INPUT_NOBS',key_maskbits='INPUT_MASKBITS') & mask_ts(legacysim,key_flux='INPUT_EFLUX',key_fiberflux='INPUT_EFLUX')[2]\n",
    "mask_tsout = legacysim.mask_maskbit(key_nobs='NOBS',key_maskbits='MASKBITS') & mask_ts(legacysim,key_flux='EFLUX',key_fiberflux='EFIBERFLUX')[3] & legacysim['MATCHED']\n",
    "logger.info('Selecting {:d} (output)/{:d} (input) injected sources.'.format(mask_tsin.sum(),mask_tsout.sum()))\n",
    "legacysimfiber_data = legacysim[mask_tsout]\n",
    "legacysimfiber_randoms = legacysim[mask_tsin]"
   ]
  },
  {
   "cell_type": "code",
   "execution_count": null,
   "metadata": {},
   "outputs": [],
   "source": [
    "# Density maps\n",
    "map = Catalogue.load(path_hp)\n",
    "legacysim_dens = HealpixDensity(map=map)\n",
    "legacysim_dens.set_randoms(randoms=legacysim_randoms)\n",
    "legacysim_dens.set_properties()\n",
    "legacysim_dens.set_data(data=legacysim_data)\n",
    "legacysim_dens.plot_density_map(title='legacysim density',vmin=0,vmax=2)\n",
    "\n",
    "legacysimfiber_dens = HealpixDensity(map=map)\n",
    "legacysimfiber_dens.set_randoms(randoms=legacysimfiber_randoms)\n",
    "legacysimfiber_dens.set_properties()\n",
    "legacysimfiber_dens.set_data(data=legacysimfiber_data)\n",
    "\n",
    "props = ['EBV'] + ['GALDEPTH_{}'.format(b) for b in legacysim_data.bands] + ['STARDENS'] +  ['PSFSIZE_{}'.format(b) for b in legacysim_data.bands]\n",
    "\n",
    "others = [legacysimfiber_dens]\n",
    "labels = ['standard','fiberflux']\n",
    "\n",
    "fig,lax = plt.subplots(ncols=4,nrows=2,sharex=False,sharey=True,figsize=(16,6))\n",
    "fig.subplots_adjust(hspace=0.4,wspace=0.2)\n",
    "lax = lax.flatten()\n",
    "for iax,prop in enumerate(props):\n",
    "    legacysim_dens.plot_density_variations(ax=lax[iax],others=others,prop=prop,histos=[legacysim_dens],var_kwargs={'labels':labels if iax==0 else None},leg_kwargs={},xedges={'quantiles':[0.1,0.9]})\n",
    "plt.show()"
   ]
  },
  {
   "cell_type": "markdown",
   "metadata": {},
   "source": [
    "## No striking difference between standard cuts and fiberflux cuts. Let's look at fluxes."
   ]
  },
  {
   "cell_type": "code",
   "execution_count": null,
   "metadata": {},
   "outputs": [],
   "source": [
    "legacysim = legacysim[legacysim['MATCHED']]\n",
    "from scipy import special,stats\n",
    "def estimate_std(tab):\n",
    "        return np.median(np.abs(tab-np.median(tab)))/(2.**0.5*special.erfinv(1./2.))\n",
    "\n",
    "from photometry.utils import Binning\n",
    "\n",
    "b = 'G'\n",
    "for xlabel in ['INPUT_FLUX_{}'.format(b)]:\n",
    "    fig,lax = plt.subplots(ncols=2,nrows=2,sharex=False,sharey=False,figsize=(12,6))\n",
    "    fig.subplots_adjust(hspace=0.4,wspace=0.4)\n",
    "    lax = lax.flatten()\n",
    "    keys_flux = ['FLUX_{}'.format(b),'FIBERFLUX_{}'.format(b)]\n",
    "    for ax,key in zip(lax,keys_flux):\n",
    "        legacysim['DELTA_{}'.format(key)] = (legacysim[key]-legacysim['INPUT_FLUX_{}'.format(b)])/legacysim['MW_TRANSMISSION_{}'.format(b)]\n",
    "        legacysim.plot_scatter(ax,prop1=xlabel,prop2='DELTA_{}'.format(key),xedges={'quantiles':[0.01,0.99]},yedges={'quantiles':[0.01,0.99]})\n",
    "        ax.axhline(y=0,xmin=0,xmax=1,color='r')\n",
    "    lax = lax[len(keys_flux):]\n",
    "    for ax,key in zip(lax,keys_flux):\n",
    "        xedges = Binning(samples=legacysim[xlabel],quantiles=[0.01,0.99]).edges\n",
    "        x = (xedges[:-1] + xedges[1:])/2.\n",
    "        y = stats.binned_statistic(legacysim[xlabel],legacysim['DELTA_{}'.format(key)],bins=xedges,statistic='median')[0]\n",
    "        yerr = stats.binned_statistic(legacysim[xlabel],legacysim['DELTA_{}'.format(key)],bins=xedges,statistic=estimate_std)[0]\n",
    "        counts = stats.binned_statistic(legacysim[xlabel],legacysim['DELTA_{}'.format(key)],bins=xedges,statistic='count')[0]\n",
    "        yerr *= 1/counts**0.5 # trick to estimate standard deviation in presence of outliers\n",
    "        ax.errorbar(x,y,yerr)\n",
    "        ax.axhline(y=0,xmin=0,xmax=1,color='r')\n",
    "        ax.set_xlabel(xlabel)\n",
    "        ax.set_ylabel(key)\n",
    "\n",
    "logger.info('Scatter standard {:.4f} {:.4f}'.format(estimate_std(legacysim['DELTA_FLUX_G']),np.std(legacysim['DELTA_FLUX_G'])))\n",
    "logger.info('Scatter fiber {:.4f} {:.4f}'.format(estimate_std(legacysim['DELTA_FIBERFLUX_G']),np.std(legacysim['DELTA_FIBERFLUX_G'])))"
   ]
  },
  {
   "cell_type": "markdown",
   "metadata": {},
   "source": [
    "## Let's correct for FIBERFLUX_G = f(FLUX_G)"
   ]
  },
  {
   "cell_type": "code",
   "execution_count": null,
   "metadata": {},
   "outputs": [],
   "source": [
    "for xlabel in ['INPUT_FLUX_{}'.format(b)]:\n",
    "    fig,lax = plt.subplots(ncols=2,nrows=2,sharex=False,sharey=False,figsize=(12,6))\n",
    "    fig.subplots_adjust(hspace=0.4,wspace=0.4)\n",
    "    lax = lax.flatten()\n",
    "    keys_flux = ['FLUX_{}'.format(b),'FIBERFLUX_{}'.format(b)]\n",
    "    for ax,key in zip(lax,keys_flux):\n",
    "        legacysim['DELTA_{}'.format(key)] = (legacysim[key]-legacysim['INPUT_FLUX_{}'.format(b)])/legacysim['MW_TRANSMISSION_{}'.format(b)]\n",
    "        if 'FIBER' in key: legacysim['DELTA_{}'.format(key)] = (1.285*legacysim[key]-legacysim['INPUT_FLUX_{}'.format(b)])/legacysim['MW_TRANSMISSION_{}'.format(b)]\n",
    "        legacysim.plot_scatter(ax,prop1=xlabel,prop2='DELTA_{}'.format(key),xedges={'quantiles':[0.01,0.99]},yedges={'quantiles':[0.01,0.99]})\n",
    "        ax.axhline(y=0,xmin=0,xmax=1,color='r')\n",
    "    lax = lax[len(keys_flux):]\n",
    "    for ax,key in zip(lax,keys_flux):\n",
    "        xedges = Binning(samples=legacysim[xlabel],quantiles=[0.01,0.99]).edges\n",
    "        x = (xedges[:-1] + xedges[1:])/2.\n",
    "        y = stats.binned_statistic(legacysim[xlabel],legacysim['DELTA_{}'.format(key)],bins=xedges,statistic='median')[0]\n",
    "        yerr = stats.binned_statistic(legacysim[xlabel],legacysim['DELTA_{}'.format(key)],bins=xedges,statistic=estimate_std)[0]\n",
    "        counts = stats.binned_statistic(legacysim[xlabel],legacysim['DELTA_{}'.format(key)],bins=xedges,statistic='count')[0]\n",
    "        yerr *= 1/counts**0.5 # trick to estimate standard deviation in presence of outliers\n",
    "        ax.errorbar(x,y,yerr)\n",
    "        ax.axhline(y=0,xmin=0,xmax=1,color='r')\n",
    "        ax.set_xlabel(xlabel)\n",
    "        ax.set_ylabel(key)\n",
    "\n",
    "logger.info('Scatter standard {:.4f} {:.4f}'.format(estimate_std(legacysim['DELTA_FLUX_G']),np.std(legacysim['DELTA_FLUX_G'])))\n",
    "logger.info('Scatter fiber {:.4f} {:.4f}'.format(estimate_std(legacysim['DELTA_FIBERFLUX_G']),np.std(legacysim['DELTA_FIBERFLUX_G'])))"
   ]
  },
  {
   "cell_type": "code",
   "execution_count": null,
   "metadata": {},
   "outputs": [],
   "source": []
  }
 ],
 "metadata": {
  "kernelspec": {
   "display_name": "Python 3",
   "language": "python",
   "name": "python3"
  },
  "language_info": {
   "codemirror_mode": {
    "name": "ipython",
    "version": 3
   },
   "file_extension": ".py",
   "mimetype": "text/x-python",
   "name": "python",
   "nbconvert_exporter": "python",
   "pygments_lexer": "ipython3",
   "version": "3.7.4"
  }
 },
 "nbformat": 4,
 "nbformat_minor": 4
}
