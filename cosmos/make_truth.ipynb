{
 "cells": [
  {
   "cell_type": "code",
   "execution_count": 1,
   "id": "0980adb1-3834-49fa-ba34-9f0e906386b8",
   "metadata": {},
   "outputs": [
    {
     "name": "stdout",
     "output_type": "stream",
     "text": [
      "total 40\n",
      "drwxrwxr-x 9 dstn 4096 Feb 24 16:00 \u001b[0m\u001b[01;34m80\u001b[0m/\n",
      "drwxrwxr-x 9 dstn 4096 Feb 24 16:13 \u001b[01;34m81\u001b[0m/\n",
      "drwxrwxr-x 9 dstn 4096 Feb 24 16:14 \u001b[01;34m82\u001b[0m/\n",
      "drwxrwxr-x 9 dstn 4096 Feb 24 16:13 \u001b[01;34m83\u001b[0m/\n",
      "drwxrwxr-x 9 dstn 4096 Feb 24 16:14 \u001b[01;34m84\u001b[0m/\n",
      "drwxrwxr-x 9 dstn 4096 Feb 24 16:17 \u001b[01;34m85\u001b[0m/\n",
      "drwxrwxr-x 9 dstn 4096 Feb 24 16:28 \u001b[01;34m86\u001b[0m/\n",
      "drwxrwxr-x 9 dstn 4096 Feb 24 16:28 \u001b[01;34m87\u001b[0m/\n",
      "drwxrwxr-x 9 dstn 4096 Feb 24 16:28 \u001b[01;34m88\u001b[0m/\n",
      "drwxrwxr-x 9 dstn 4096 Feb 24 16:28 \u001b[01;34m89\u001b[0m/\n"
     ]
    }
   ],
   "source": [
    "ll /global/cscratch1/sd/dstn/dr9-cosmos-subs"
   ]
  },
  {
   "cell_type": "code",
   "execution_count": 2,
   "id": "af359fb1-fb27-4d8c-9c25-174bb18eb0f6",
   "metadata": {},
   "outputs": [
    {
     "name": "stdout",
     "output_type": "stream",
     "text": [
      "total 8\n",
      "drwxrwsr-x+  9 landriau 4096 Jun  1 10:07 \u001b[0m\u001b[01;34mcalib\u001b[0m/\n",
      "drwxrws---+ 12 landriau 4096 Feb 19 17:54 \u001b[01;34mcoadd\u001b[0m/\n",
      "drwxrws---+ 12 landriau 4096 Feb 19 17:49 \u001b[01;34mlogs\u001b[0m/\n",
      "drwxrwsr-x+  3 landriau 4096 Dec 11 16:13 \u001b[01;34mlogs-calibs\u001b[0m/\n",
      "drwxrws---+ 12 landriau 4096 Feb 19 17:49 \u001b[01;34mmetrics\u001b[0m/\n",
      "drwxrws---+ 12 landriau 4096 Feb 19 17:57 \u001b[01;34mtractor\u001b[0m/\n",
      "drwxrws---+ 12 landriau 4096 Feb 19 17:57 \u001b[01;34mtractor-i\u001b[0m/\n",
      "drwxrwsr-x+  3 landriau 4096 Dec 11 16:14 \u001b[01;34mzpts\u001b[0m/\n"
     ]
    }
   ],
   "source": [
    "ll /global/project/projectdirs/cosmo/work/legacysurvey/dr9.1.1/"
   ]
  },
  {
   "cell_type": "code",
   "execution_count": 3,
   "id": "baee478c-4535-4e94-86b0-6ed8d786cfcb",
   "metadata": {},
   "outputs": [
    {
     "name": "stderr",
     "output_type": "stream",
     "text": [
      "WARNING: leap-second auto-update failed due to the following exception: RuntimeError('Cache is locked after 5.02 s. This may indicate an astropy bug or that kill -9 was used. If you want to unlock the cache remove the directory /global/homes/a/adematti/.astropy/cache/download/py3/lock. Lock claims to be held by process 5959.') [astropy.time.core]\n"
     ]
    }
   ],
   "source": [
    "import os\n",
    "import glob\n",
    "import numpy as np\n",
    "from matplotlib import pyplot as plt\n",
    "from photometry import Catalogue, setup_logging, utils\n",
    "\n",
    "output_dir = os.path.join(os.environ['CSCRATCH'],'legacysim','dr9','cosmos','merged')\n",
    "deep_fn = os.path.join(output_dir,'deep.fits')\n",
    "subs = range(80,90)\n",
    "sub_fns = [os.path.join(output_dir,'sub_{:d}.fits'.format(isub)) for isub in subs]\n",
    "dr9_fn = os.path.join(output_dir,'dr9.fits')\n",
    "hsc_dir = '/global/cfs/cdirs/desi/target/analysis/truth/parent'\n",
    "hsc_fn = os.path.join(hsc_dir,'hsc-pdr2-dud-cosmos-reduced.fits')\n",
    "truth_fn = os.path.join(os.getenv('HOME'),'photometry','truth_cosmos_deep.fits')\n",
    "\n",
    "bands = ['g','r','z','w1','w2']\n",
    "keep = ['ra','dec','brick_primary','release','brickname','objid','maskbits']\n",
    "keep += ['flux_{}'.format(b) for b in bands]\n",
    "keep += ['fiberflux_{}'.format(b) for b in bands[:3]]\n",
    "keep += ['type','sersic','shape_r','shape_e1','shape_e2']\n",
    "keep += ['galdepth_{}'.format(b) for b in bands[:3]]\n",
    "keep += ['mw_transmission_{}'.format(b) for b in bands]\n",
    "keep += ['ebv']\n",
    "\n",
    "def get_catalog(fn):\n",
    "    catalog = Catalogue.load_fits(fn,keep=keep)\n",
    "    return catalog[catalog['brick_primary']]\n",
    "\n",
    "def match_catalogs(deep, hsc, distance_upper_bound=1./3600.):\n",
    "    index_hsc = utils.match_ra_dec([deep['ra'],deep['dec']],radec2=[hsc['ra'],hsc['dec']],nn=1,distance_upper_bound=distance_upper_bound,degree=True)\n",
    "    index_deep = np.arange(deep.size)\n",
    "    mask = index_hsc < hsc.size\n",
    "    index_hsc = index_hsc[mask]\n",
    "    index_deep = index_deep[mask]\n",
    "    print('Matching {:d} sources / {:d} (cosmos) and {:d} (hsc)'.format(index_hsc.size,deep.size,hsc.size))\n",
    "    print('{:.3f} (cosmos) and {:.3f} (hsc)'.format(index_hsc.size/deep.size,index_hsc.size/hsc.size))\n",
    "    catalog = deep.deepcopy()\n",
    "    #catalog = deep[index_deep]\n",
    "    for field in ['object_id']:\n",
    "        catalog['hsc_{}'.format(field)] = - catalog.ones(dtype=hsc[field].dtype)\n",
    "        catalog['hsc_{}'.format(field)][index_deep] = hsc[field][index_hsc]\n",
    "    for field in ['ra','dec','demp_photoz_best','mizuki_photoz_best']:\n",
    "        catalog['hsc_{}'.format(field)] = np.nan*catalog.ones(dtype=hsc[field].dtype)\n",
    "        catalog['hsc_{}'.format(field)][index_deep] = hsc[field][index_hsc]\n",
    "    return catalog\n",
    "\n",
    "def fill_catalog(catalog):\n",
    "    for b in bands[:3]:\n",
    "        catalog['brick_galdepth_{}'.format(b)] = utils.digitized_statistics(catalog['brickname'],values=catalog['galdepth_{}'.format(b)],statistic='median')\n",
    "        catalog['{}fiber'.format(b)] = utils.flux_to_mag(catalog['fiberflux_{}'.format(b)]/catalog['mw_transmission_{}'.format(b)])\n",
    "    for b in bands:\n",
    "        catalog[b] = utils.flux_to_mag(catalog['flux_{}'.format(b)]/catalog['mw_transmission_{}'.format(b)])\n",
    "    catalog['shape_ba'],catalog['shape_phi'] = utils.get_shape_ba_phi(catalog['shape_e1'],catalog['shape_e2'])\n",
    "    return catalog\n",
    "\n",
    "def get_maskbit(catalog, bits=[1, 5, 6, 7, 11, 12, 13]):\n",
    "    mask = catalog.trues()\n",
    "    for bit in bits:\n",
    "        mask &= (catalog['maskbits'] & 2**bit) == 0\n",
    "    return mask\n",
    "\n",
    "def get_mask_depth(catalog, threshold=(5000.,2000.,500.)):\n",
    "    #return np.all([catalog['brick_galdepth_{}'.format(b)] > t for (b,t) in zip(bands,threshold)],axis=0)\n",
    "    return np.all([catalog['galdepth_{}'.format(b)] > t for (b,t) in zip(bands,threshold)],axis=0)\n",
    "\n",
    "from preprocess import isELG_colors\n",
    "def get_mask_ts(catalog, priority='all', **kwargs):\n",
    "    mask_low, mask_high = isELG_colors(**{'%sflux' % b:utils.mag_to_flux(catalog[b]) for b in ['g','r','z','gfiber']},**kwargs)\n",
    "    if priority == 'low': return mask_low\n",
    "    if priority == 'high': return mask_high\n",
    "    return (mask_low | mask_high)"
   ]
  },
  {
   "cell_type": "code",
   "execution_count": 4,
   "id": "f59d173f-5389-4f83-b347-2fb5107f6c81",
   "metadata": {},
   "outputs": [
    {
     "name": "stdout",
     "output_type": "stream",
     "text": [
      "Found 811 tractor catalogs\n"
     ]
    }
   ],
   "source": [
    "write_input = False\n",
    "\n",
    "if write_input:\n",
    "    base_dir = '/global/project/projectdirs/cosmo/work/legacysurvey/dr9.1.1/tractor/'\n",
    "    fns = glob.glob(os.path.join(base_dir,'*','tractor-*.fits'))\n",
    "    catalog = 0\n",
    "    setup_logging('warning')\n",
    "    print('Found {:d} tractor catalogs'.format(len(fns)))\n",
    "    for ifn,fn in enumerate(fns):\n",
    "        #if ifn % (len(fns)//20) == 0: print('{}/{}'.format(ifn,len(fns)))\n",
    "        catalog += get_catalog(fn)\n",
    "    catalog.save_fits(deep_fn)\n",
    "    \n",
    "    base_dir = '/global/cscratch1/sd/dstn/dr9-cosmos-subs/'\n",
    "    for isub,sub_fn in zip(subs,sub_fns):\n",
    "        fns = glob.glob(os.path.join(base_dir,str(isub),'tractor','*','tractor-*.fits'))\n",
    "        catalog = 0\n",
    "        for ifn,fn in enumerate(fns): catalog += get_catalog(fn)\n",
    "        catalog.save_fits(sub_fn)\n",
    "    \n",
    "    base_dir = '/global/cfs/cdirs/cosmo/data/legacysurvey/dr9/south/tractor'\n",
    "    bricknames = np.unique(Catalogue.load_fits(deep_fn,keep=['brickname'])['brickname'])\n",
    "    catalog = 0\n",
    "    for brickname in bricknames:\n",
    "        fn = os.path.join(base_dir,brickname[:3],'tractor-{}.fits'.format(brickname))\n",
    "        catalog += get_catalog(fn)\n",
    "    catalog.save_fits(dr9_fn)\n",
    "    \n",
    "write_matched = False\n",
    "\n",
    "if write_matched:\n",
    "    subs = sum([Catalogue.load_fits(sub_fn) for sub_fn in sub_fns])\n",
    "    deep = Catalogue.load_fits(deep_fn)\n",
    "    dr9 = Catalogue.load_fits(dr9_fn)\n",
    "\n",
    "    catalogs = {'subs':subs,'deep':deep,'dr9':dr9}\n",
    "    for catalog in catalogs.values():\n",
    "        fill_catalog(catalog)\n",
    "    \n",
    "    hsc = Catalogue.load_fits(hsc_fn)\n",
    "    catalog = match_catalogs(deep,hsc)\n",
    "    catalog.save(truth_fn)"
   ]
  },
  {
   "cell_type": "code",
   "execution_count": 2,
   "id": "7beb6ba3-f6c5-492c-9d10-c542a250153d",
   "metadata": {},
   "outputs": [],
   "source": [
    "# Check truth"
   ]
  },
  {
   "cell_type": "code",
   "execution_count": null,
   "id": "55d610f5-2d4a-4db2-af35-fdfabcb1784e",
   "metadata": {},
   "outputs": [],
   "source": [
    "truth = Catalogue.load_fits(truth_fn)\n",
    "mask = get_mask_depth(truth) & get_mask_ts(truth,gmarg=0.5,grmarg=0.5,rzmarg=0.5,priority='all')\n",
    "truth = truth[mask]\n",
    "mask_all = get_mask_ts(truth,gmarg=0.,grmarg=0.,rzmarg=0.,priority='all')\n",
    "mask_hip = get_mask_ts(truth,gmarg=0.,grmarg=0.,rzmarg=0.,priority='high')\n",
    "\n",
    "fig,ax = plt.subplots(ncols=1,nrows=1,sharex=False,sharey=False,figsize=(8,8))\n",
    "ax.scatter(truth['r'] - truth['z'],truth['g'] - truth['r'],marker='.',color='b')\n",
    "ax.scatter(truth['r'][mask_all] - truth['z'][mask_all],truth['g'][mask_all] - truth['r'][mask_all],marker='.',color='r')\n",
    "ax.scatter(truth['r'][mask_hip] - truth['z'][mask_hip],truth['g'][mask_hip] - truth['r'][mask_hip],marker='.',color='g')\n",
    "ax.set_xlim(-1.,2.)\n",
    "ax.set_ylim(-0.5,2.)\n",
    "ax.set_xlabel('$g-r$')\n",
    "ax.set_ylabel('$r-z$')\n",
    "\n",
    "fn = os.path.join(output_dir,'truth_ELG_ALL_marg05.fits')\n",
    "truth.save_fits(fn)\n",
    "print(truth.size)"
   ]
  },
  {
   "cell_type": "code",
   "execution_count": 9,
   "id": "7073033b-8853-44c6-a9d3-8ea9acb196f3",
   "metadata": {},
   "outputs": [
    {
     "name": "stdout",
     "output_type": "stream",
     "text": [
      "['object_id', 'ra', 'dec', 'g_psfflux_flux', 'r_psfflux_flux', 'i_psfflux_flux', 'z_psfflux_flux', 'y_psfflux_flux', 'g_psfflux_fluxsigma', 'r_psfflux_fluxsigma', 'i_psfflux_fluxsigma', 'z_psfflux_fluxsigma', 'y_psfflux_fluxsigma', 'g_cmodel_flux', 'r_cmodel_flux', 'i_cmodel_flux', 'z_cmodel_flux', 'y_cmodel_flux', 'g_cmodel_fluxsigma', 'r_cmodel_fluxsigma', 'i_cmodel_fluxsigma', 'z_cmodel_fluxsigma', 'y_cmodel_fluxsigma', 'g_cmodel_fracdev', 'r_cmodel_fracdev', 'z_cmodel_fracdev', 'g_extendedness_value', 'r_extendedness_value', 'i_extendedness_value', 'z_extendedness_value', 'g_extendedness_flag', 'r_extendedness_flag', 'i_extendedness_flag', 'z_extendedness_flag', 'g_sdsscentroid_flag', 'r_sdsscentroid_flag', 'i_sdsscentroid_flag', 'z_sdsscentroid_flag', 'y_sdsscentroid_flag', 'g_pixelflags_edge', 'r_pixelflags_edge', 'i_pixelflags_edge', 'z_pixelflags_edge', 'y_pixelflags_edge', 'g_pixelflags_interpolatedcenter', 'r_pixelflags_interpolatedcenter', 'i_pixelflags_interpolatedcenter', 'z_pixelflags_interpolatedcenter', 'y_pixelflags_interpolatedcenter', 'g_pixelflags_saturatedcenter', 'r_pixelflags_saturatedcenter', 'i_pixelflags_saturatedcenter', 'z_pixelflags_saturatedcenter', 'y_pixelflags_saturatedcenter', 'g_pixelflags_crcenter', 'r_pixelflags_crcenter', 'i_pixelflags_crcenter', 'z_pixelflags_crcenter', 'y_pixelflags_crcenter', 'g_pixelflags_bad', 'r_pixelflags_bad', 'i_pixelflags_bad', 'z_pixelflags_bad', 'y_pixelflags_bad', 'g_cmodel_flag', 'r_cmodel_flag', 'i_cmodel_flag', 'z_cmodel_flag', 'y_cmodel_flag', 'demp_photoz_best', 'demp_photoz_risk_best', 'demp_photoz_std_best', 'demp_photoz_err68_min', 'demp_photoz_err68_max', 'demp_photoz_err95_min', 'demp_photoz_err95_max', 'demp_stellar_mass', 'demp_stellar_mass_err68_min', 'demp_stellar_mass_err68_max', 'demp_sfr', 'demp_sfr_err68_min', 'demp_sfr_err68_max', 'mizuki_photoz_best', 'mizuki_photoz_risk_best', 'mizuki_photoz_std_best', 'mizuki_photoz_err68_min', 'mizuki_photoz_err68_max', 'mizuki_photoz_err95_min', 'mizuki_photoz_err95_max', 'mizuki_stellar_mass', 'mizuki_stellar_mass_err68_min', 'mizuki_stellar_mass_err68_max', 'mizuki_sfr', 'mizuki_sfr_err68_min', 'mizuki_sfr_err68_max']\n"
     ]
    }
   ],
   "source": [
    "hsc = Catalogue.load_fits(hsc_fn)\n",
    "print(hsc.fields)"
   ]
  },
  {
   "cell_type": "code",
   "execution_count": 10,
   "id": "a6cf2720-26a1-4ff1-b6d2-70307f819c1c",
   "metadata": {},
   "outputs": [
    {
     "data": {
      "text/plain": [
       "Text(0, 0.5, 'dec')"
      ]
     },
     "execution_count": 10,
     "metadata": {},
     "output_type": "execute_result"
    },
    {
     "data": {
      "image/png": "[encoded data removed]",
      "text/plain": [
       "<Figure size 432x288 with 1 Axes>"
      ]
     },
     "metadata": {
      "needs_background": "light"
     },
     "output_type": "display_data"
    }
   ],
   "source": [
    "plt.scatter(deep['ra'],deep['dec'],marker='.',label='cosmos deep')\n",
    "plt.scatter(hsc['ra'],hsc['dec'],marker='.',label='hsc')\n",
    "plt.xlabel('ra')\n",
    "plt.ylabel('dec')"
   ]
  },
  {
   "cell_type": "code",
   "execution_count": 13,
   "id": "54e3f536-000a-4833-a8c7-625f9b860140",
   "metadata": {},
   "outputs": [
    {
     "name": "stdout",
     "output_type": "stream",
     "text": [
      "['brickname', 'objid', 'type', 'ra', 'dec', 'g', 'r', 'z', 'w1', 'w2', 'galdepth_g', 'galdepth_r', 'galdepth_z', 'hsc_object_id', 'hsc_ra', 'hsc_dec', 'hsc_mizuki_photoz_best', 'rhalf']\n"
     ]
    }
   ],
   "source": [
    "prev_fn = '/project/projectdirs/desi/users/ajross/MCdata/seed.fits'\n",
    "prev = Catalogue.load_fits(prev_fn)\n",
    "print(prev.fields)"
   ]
  },
  {
   "cell_type": "code",
   "execution_count": 1,
   "id": "41af6c03-d650-4005-ad40-9e0de6b50a6f",
   "metadata": {},
   "outputs": [],
   "source": [
    "from desiutil.brick import Bricks\n",
    "table = Bricks().to_table()"
   ]
  },
  {
   "cell_type": "code",
   "execution_count": null,
   "id": "911bb83a-58ac-44ca-b263-627504925fd1",
   "metadata": {},
   "outputs": [],
   "source": [
    "plt.scatter(table['RA1'],table['BRICKCOL'])"
   ]
  }
 ],
 "metadata": {
  "kernelspec": {
   "display_name": "My home",
   "language": "python",
   "name": "home-base"
  },
  "language_info": {
   "codemirror_mode": {
    "name": "ipython",
    "version": 3
   },
   "file_extension": ".py",
   "mimetype": "text/x-python",
   "name": "python",
   "nbconvert_exporter": "python",
   "pygments_lexer": "ipython3",
   "version": "3.8.3"
  }
 },
 "nbformat": 4,
 "nbformat_minor": 5
}
