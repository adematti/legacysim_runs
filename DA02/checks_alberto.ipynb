{
 "cells": [
  {
   "cell_type": "code",
   "execution_count": 1,
   "id": "b0c98279-668f-4de7-a985-55cc3e940d04",
   "metadata": {},
   "outputs": [],
   "source": [
    "import numpy as np\n",
    "import fitsio"
   ]
  },
  {
   "cell_type": "code",
   "execution_count": 2,
   "id": "263f46e2-58c0-4fab-b74f-0ef4f6463a48",
   "metadata": {},
   "outputs": [],
   "source": [
    "ref = fitsio.read('/global/cscratch1/sd/adematti/legacysim/dr9/DA02/north/file0_rs0_skip0/injected.fits')\n",
    "#test = fitsio.read('/global/cscratch1/sd/adematti/legacysim/dr9/DA02test/north/file0_rs0_skip0/injected.fits')\n",
    "test = fitsio.read('/global/cfs/cdirs/desi/survey/catalogs/image_simulations/ELG/dr9/DA02/north/file0_rs0_skip0/injected.fits')"
   ]
  },
  {
   "cell_type": "code",
   "execution_count": 11,
   "id": "fccea8b2-fa0b-4571-93ad-c13491cb7cdd",
   "metadata": {},
   "outputs": [
    {
     "name": "stdout",
     "output_type": "stream",
     "text": [
      "7415673 7547545\n",
      "('bx', 'by', 'ra', 'dec', 'id', 'brickname', 'photsys', 'objid', 'g', 'r', 'z', 'gfiber', 'rfiber', 'zfiber', 'shape_r', 'sersic', 'shape_ba', 'shape_phi', 'hsc_object_id', 'hsc_demp_photoz_best', 'hsc_mizuki_photoz_best', 'mw_transmission_g', 'flux_g', 'mw_transmission_r', 'flux_r', 'mw_transmission_z', 'flux_z', 'shape_e1', 'shape_e2', 'seed')\n",
      "13964 13720\n"
     ]
    }
   ],
   "source": [
    "print(ref.size, test.size)\n",
    "print(ref.dtype.names)\n",
    "print(np.unique(test['brickname']).size, np.unique(ref['brickname']).size)"
   ]
  },
  {
   "cell_type": "code",
   "execution_count": 10,
   "id": "9efcbccc-05b1-4ac5-9279-4adc90fad636",
   "metadata": {},
   "outputs": [
    {
     "name": "stdout",
     "output_type": "stream",
     "text": [
      "[-1. -1. -1. -1. -1. -1. -1. -1. -1. -1. -1. -1. -1. -1. -1. -1. -1. -1.\n",
      " -1. -1. -1. -1. -1. -1. -1. -1. -1. -1. -1. -1. -1. -1. -1. -1. -1. -1.\n",
      " -1. -1. -1. -1. -1. -1. -1. -1. -1. -1. -1. -1. -1. -1. -1. -1. -1. -1.\n",
      " -1. -1. -1. -1. -1. -1. -1. -1. -1. -1. -1. -1. -1. -1. -1. -1. -1. -1.\n",
      " -1. -1. -1. -1. -1. -1. -1. -1. -1. -1. -1. -1. -1. -1. -1. -1. -1. -1.\n",
      " -1. -1. -1. -1. -1. -1. -1. -1. -1. -1. -1. -1. -1. -1. -1. -1. -1. -1.\n",
      " -1. -1. -1. -1. -1. -1. -1. -1. -1. -1. -1. -1. -1. -1. -1. -1. -1. -1.\n",
      " -1. -1. -1. -1. -1. -1. -1. -1. -1. -1. -1. -1. -1. -1. -1. -1. -1. -1.\n",
      " -1. -1. -1. -1. -1. -1. -1. -1. -1. -1. -1. -1. -1. -1. -1. -1. -1. -1.\n",
      " -1. -1. -1. -1. -1. -1. -1. -1. -1. -1. -1. -1. -1. -1. -1. -1. -1. -1.\n",
      " -1. -1. -1. -1. -1. -1. -1. -1. -1. -1. -1. -1. -1. -1. -1. -1. -1. -1.\n",
      " -1. -1. -1. -1. -1. -1. -1. -1. -1. -1. -1. -1. -1. -1. -1. -1. -1. -1.\n",
      " -1. -1. -1. -1. -1. -1. -1. -1. -1. -1. -1. -1. -1. -1. -1. -1. -1. -1.\n",
      " -1. -1. -1. -1. -1. -1. -1. -1. -1. -1. -1. -1. -1. -1. -1. -1. -1. -1.\n",
      " -1. -1. -1. -1. -1. -1. -1. -1. -1. -1. -1. -1. -1. -1. -1. -1. -1. -1.\n",
      " -1. -1. -1. -1. -1. -1. -1. -1. -1. -1. -1. -1. -1. -1. -1. -1. -1. -1.\n",
      " -1. -1. -1. -1. -1. -1. -1. -1. -1. -1. -1. -1. -1. -1. -1. -1. -1. -1.\n",
      " -1. -1. -1. -1. -1. -1. -1. -1. -1. -1. -1. -1. -1. -1. -1. -1. -1. -1.\n",
      " -1. -1. -1. -1. -1. -1. -1. -1. -1. -1. -1. -1. -1. -1. -1. -1. -1. -1.\n",
      " -1. -1. -1. -1. -1. -1. -1. -1. -1. -1. -1. -1. -1. -1. -1. -1. -1. -1.\n",
      " -1. -1. -1. -1. -1. -1. -1. -1. -1. -1. -1. -1. -1. -1. -1. -1. -1. -1.\n",
      " -1. -1. -1. -1. -1. -1. -1. -1. -1. -1. -1. -1. -1. -1. -1. -1. -1. -1.\n",
      " -1. -1. -1. -1. -1. -1. -1. -1. -1. -1. -1. -1. -1. -1. -1. -1. -1. -1.\n",
      " -1. -1. -1. -1. -1. -1. -1. -1. -1. -1. -1. -1. -1. -1. -1. -1. -1. -1.\n",
      " -1. -1. -1. -1. -1. -1. -1. -1. -1. -1. -1. -1. -1. -1. -1. -1. -1. -1.\n",
      " -1. -1. -1. -1. -1. -1. -1. -1. -1. -1. -1. -1. -1. -1. -1. -1. -1. -1.\n",
      " -1. -1. -1. -1. -1. -1. -1. -1. -1. -1. -1. -1. -1. -1. -1. -1. -1. -1.\n",
      " -1. -1. -1. -1. -1. -1. -1. -1. -1. -1. -1. -1. -1. -1. -1. -1. -1. -1.\n",
      " -1. -1. -1. -1. -1. -1. -1. -1. -1. -1. -1. -1. -1. -1. -1. -1. -1. -1.\n",
      " -1. -1. -1. -1. -1. -1. -1. -1. -1. -1. -1. -1. -1. -1. -1. -1. -1. -1.\n",
      " -1.]\n",
      "ra True\n",
      "dec True\n",
      "bx False\n",
      "by False\n",
      "g False\n",
      "r False\n",
      "z False\n",
      "shape_e1 False\n",
      "shape_e2 False\n"
     ]
    }
   ],
   "source": [
    "for brickname in np.unique(test['brickname'])[:1]:\n",
    "    if brickname in ref['brickname']:\n",
    "        mask_test = test['brickname'] == brickname\n",
    "        mask_ref = ref['brickname'] == brickname\n",
    "        print(test['bx'][mask_test] - ref['bx'][mask_ref])\n",
    "        for name in ['ra', 'dec', 'bx', 'by', 'g', 'r', 'z', 'shape_e1', 'shape_e2']:\n",
    "            print(name, np.allclose(test[name][mask_test], ref[name][mask_ref]))"
   ]
  },
  {
   "cell_type": "code",
   "execution_count": null,
   "id": "cfd9670f-633e-4bf6-80c9-9071df34f464",
   "metadata": {},
   "outputs": [],
   "source": []
  }
 ],
 "metadata": {
  "kernelspec": {
   "display_name": "cosmodesi-main",
   "language": "python",
   "name": "cosmodesi-main"
  },
  "language_info": {
   "codemirror_mode": {
    "name": "ipython",
    "version": 3
   },
   "file_extension": ".py",
   "mimetype": "text/x-python",
   "name": "python",
   "nbconvert_exporter": "python",
   "pygments_lexer": "ipython3",
   "version": "3.9.10"
  }
 },
 "nbformat": 4,
 "nbformat_minor": 5
}
